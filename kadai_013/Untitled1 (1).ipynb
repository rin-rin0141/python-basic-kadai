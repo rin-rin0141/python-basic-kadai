{
  "nbformat": 4,
  "nbformat_minor": 0,
  "metadata": {
    "colab": {
      "provenance": []
    },
    "kernelspec": {
      "name": "python3",
      "display_name": "Python 3"
    },
    "language_info": {
      "name": "python"
    }
  },
  "cells": [
    {
      "cell_type": "code",
      "source": [
        "def tax_calculate(price, tax_rate) -> int:\n",
        "  total = price + tax_rate\n",
        "  return total\n",
        "  print(total)\n",
        "\n",
        "\n",
        "tax_calculate(110, 10)\n"
      ],
      "metadata": {
        "colab": {
          "base_uri": "https://localhost:8080/"
        },
        "id": "04jWBJ0f4u10",
        "outputId": "2c647602-89ef-4a68-abf0-2b556cc5be0f"
      },
      "execution_count": 12,
      "outputs": [
        {
          "output_type": "execute_result",
          "data": {
            "text/plain": [
              "120"
            ]
          },
          "metadata": {},
          "execution_count": 12
        }
      ]
    }
  ]
}