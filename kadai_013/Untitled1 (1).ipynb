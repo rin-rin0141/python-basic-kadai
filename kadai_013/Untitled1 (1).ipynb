{
  "nbformat": 4,
  "nbformat_minor": 0,
  "metadata": {
    "colab": {
      "provenance": []
    },
    "kernelspec": {
      "name": "python3",
      "display_name": "Python 3"
    },
    "language_info": {
      "name": "python"
    }
  },
  "cells": [
    {
      "cell_type": "code",
      "source": [
        "def tax_calculate(price, tax_rate) -> int:\n",
        "  tax = price * tax_rate / 100\n",
        "  total = price + tax\n",
        "  return total\n",
        "\n",
        "\n",
        "tax_calculate(110, 10)\n"
      ],
      "metadata": {
        "colab": {
          "base_uri": "https://localhost:8080/"
        },
        "id": "6a058zPO9rM0",
        "outputId": "99485cae-560d-49d6-e942-534c91a4fb2e"
      },
      "execution_count": 15,
      "outputs": [
        {
          "output_type": "execute_result",
          "data": {
            "text/plain": [
              "121.0"
            ]
          },
          "metadata": {},
          "execution_count": 15
        }
      ]
    }
  ]
}